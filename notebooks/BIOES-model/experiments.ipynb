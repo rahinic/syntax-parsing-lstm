{
 "cells": [
  {
   "cell_type": "markdown",
   "metadata": {},
   "source": [
    "# Viterbi Decoding Sample!\r\n",
    "## Step 0: Necessary imports"
   ]
  },
  {
   "cell_type": "code",
   "execution_count": 8,
   "metadata": {},
   "outputs": [
    {
     "name": "stdout",
     "output_type": "stream",
     "text": [
      "loading dictionaries...\n",
      "done\n",
      "Performing dataset pre-processing activities...\n",
      "loading dataset: ConLL2003-bioes-valid.txt\n",
      "done\n",
      "Parsing the dataset now...\n",
      "converting tokens to indices to tensors\n",
      "done\n",
      "Length matches! Hurray!\n",
      "loading dictionaries...\n",
      "done\n"
     ]
    }
   ],
   "source": [
    "import torch\r\n",
    "import numpy as np\r\n",
    "import pandas as pd\r\n",
    "\r\n",
    "import random\r\n",
    "import operator\r\n",
    "from datasetConLL2003 import SlidingWindowDataset\r\n",
    "\r\n",
    "# file loads: sentence tag predictions | probabilities | all BIOES tags dict\r\n",
    "FILEPATH = \"C:/Users/rahin/projects/paper-draft-03/data/processed\"\r\n",
    "file_sent = open(FILEPATH+\"/sentence.txt\",\"r\").readlines()\r\n",
    "file_sent_prob = np.load(FILEPATH+\"/tags_probabilities01.npy\", mmap_mode='r').T #individual probability of tags|words\r\n",
    "\r\n",
    "ds = SlidingWindowDataset(\"C:/Users/rahin/projects/paper-draft-03/data/raw/ConLL2003-bioes-valid.txt\")\r\n",
    "x1, x2, y = ds.load_dictionaries()\r\n",
    "# y is our dictionary look-up table of the BIOES tags"
   ]
  },
  {
   "cell_type": "markdown",
   "metadata": {},
   "source": [
    "## Step 1: Tags in Sentence"
   ]
  },
  {
   "cell_type": "code",
   "execution_count": 9,
   "metadata": {},
   "outputs": [],
   "source": [
    "sentence = []\r\n",
    "y['dummy']=len(y)+1\r\n",
    "for tag in file_sent:\r\n",
    "    sentence.append(tag.split('\\n')[0])"
   ]
  },
  {
   "cell_type": "markdown",
   "metadata": {},
   "source": [
    "## Step 2: List of all possible tags and collate both info into dataframe "
   ]
  },
  {
   "cell_type": "code",
   "execution_count": 24,
   "metadata": {},
   "outputs": [],
   "source": [
    "df = pd.DataFrame(data=file_sent_prob, columns=sentence)\r\n",
    "index_names = list(y.keys())\r\n",
    "len(index_names)\r\n",
    "df['all_tags'] = index_names\r\n",
    "observation_likelihood01  = df.set_index('all_tags')\r\n",
    "observation_likelihood01.head()\r\n",
    "\r\n",
    "observation_likelihood02 = file_sent_prob"
   ]
  },
  {
   "cell_type": "markdown",
   "metadata": {},
   "source": [
    "## Step 3: Define Transition matrix"
   ]
  },
  {
   "cell_type": "code",
   "execution_count": 25,
   "metadata": {},
   "outputs": [],
   "source": [
    "sentence_tags = ['B-PP', 'B-NP', 'O', 'B-NP', 'I-NP', 'B-NP', 'I-NP', 'I-NP', 'B-VP', 'B-NP', 'I-NP', 'I-NP', 'O', 'B-NP', 'I-NP', 'B-VP', 'B-NP', 'I-NP', 'B-NP', 'I-NP', 'I-NP', 'I-NP', 'B-SBAR', 'B-NP', 'I-NP', 'I-NP', 'I-NP', 'B-VP', 'B-NP', 'I-NP', 'E-NP', 'PADDING', 'PADDING', 'PADDING', 'PADDING', 'PADDING', 'PADDING', 'PADDING', 'PADDING', 'PADDING', 'PADDING', 'PADDING', 'PADDING', 'PADDING', 'PADDING', 'PADDING', 'PADDING', 'PADDING', 'PADDING', 'PADDING']\r\n",
    "mat_dim_cols = len(sentence_tags)\r\n",
    "mat_dim_rows = len(y)\r\n",
    "transition_mat = np.zeros((mat_dim_rows, mat_dim_cols))\r\n",
    "df_t = pd.DataFrame(data=transition_mat, columns=sentence)\r\n",
    "df_t['all_tags'] = index_names\r\n",
    "transition_matrix01 = df_t.set_index('all_tags')\r\n",
    "transition_matrix01.head()\r\n",
    "transition_matrix02 = transition_mat"
   ]
  },
  {
   "cell_type": "markdown",
   "metadata": {},
   "source": [
    "<br>------------------------------------------------------------\r\n",
    "## #################_Start of Algorithm_##################"
   ]
  },
  {
   "cell_type": "code",
   "execution_count": 26,
   "metadata": {},
   "outputs": [
    {
     "name": "stdout",
     "output_type": "stream",
     "text": [
      "0.0\n"
     ]
    },
    {
     "ename": "IndexError",
     "evalue": "only integers, slices (`:`), ellipsis (`...`), numpy.newaxis (`None`) and integer or boolean arrays are valid indices",
     "output_type": "error",
     "traceback": [
      "\u001b[1;31m---------------------------------------------------------------------------\u001b[0m",
      "\u001b[1;31mIndexError\u001b[0m                                Traceback (most recent call last)",
      "\u001b[1;32m<ipython-input-26-f66da433ef8c>\u001b[0m in \u001b[0;36m<module>\u001b[1;34m\u001b[0m\n\u001b[0;32m     17\u001b[0m \u001b[1;32mfor\u001b[0m \u001b[0ms\u001b[0m \u001b[1;32min\u001b[0m \u001b[0mrange\u001b[0m\u001b[1;33m(\u001b[0m\u001b[1;36m1\u001b[0m\u001b[1;33m,\u001b[0m \u001b[0mtotal_states\u001b[0m\u001b[1;33m)\u001b[0m\u001b[1;33m:\u001b[0m\u001b[1;33m\u001b[0m\u001b[1;33m\u001b[0m\u001b[0m\n\u001b[0;32m     18\u001b[0m     \u001b[0mprint\u001b[0m\u001b[1;33m(\u001b[0m\u001b[0mtransition_matrix02\u001b[0m\u001b[1;33m[\u001b[0m\u001b[1;36m0\u001b[0m\u001b[1;33m]\u001b[0m\u001b[1;33m[\u001b[0m\u001b[0ms\u001b[0m\u001b[1;33m]\u001b[0m\u001b[1;33m)\u001b[0m\u001b[1;33m\u001b[0m\u001b[1;33m\u001b[0m\u001b[0m\n\u001b[1;32m---> 19\u001b[1;33m     \u001b[0mprint\u001b[0m\u001b[1;33m(\u001b[0m\u001b[0mobservation_likelihood02\u001b[0m\u001b[1;33m[\u001b[0m\u001b[0ms\u001b[0m\u001b[1;33m]\u001b[0m\u001b[1;33m[\u001b[0m\u001b[0mO\u001b[0m\u001b[1;33m[\u001b[0m\u001b[1;36m1\u001b[0m\u001b[1;33m]\u001b[0m\u001b[1;33m]\u001b[0m\u001b[1;33m)\u001b[0m\u001b[1;33m\u001b[0m\u001b[1;33m\u001b[0m\u001b[0m\n\u001b[0m\u001b[0;32m     20\u001b[0m     \u001b[0mviterbi\u001b[0m\u001b[1;33m[\u001b[0m\u001b[0ms\u001b[0m\u001b[1;33m]\u001b[0m\u001b[1;33m[\u001b[0m\u001b[1;36m1\u001b[0m\u001b[1;33m]\u001b[0m \u001b[1;33m=\u001b[0m \u001b[0mtransition_matrix\u001b[0m\u001b[1;33m[\u001b[0m\u001b[1;36m0\u001b[0m\u001b[1;33m]\u001b[0m\u001b[1;33m[\u001b[0m\u001b[0ms\u001b[0m\u001b[1;33m]\u001b[0m \u001b[1;33m*\u001b[0m \u001b[0mobservation_likelihood\u001b[0m\u001b[1;33m[\u001b[0m\u001b[0ms\u001b[0m\u001b[1;33m]\u001b[0m\u001b[1;33m[\u001b[0m\u001b[0mO\u001b[0m\u001b[1;33m[\u001b[0m\u001b[1;36m1\u001b[0m\u001b[1;33m]\u001b[0m\u001b[1;33m]\u001b[0m\u001b[1;33m\u001b[0m\u001b[1;33m\u001b[0m\u001b[0m\n\u001b[0;32m     21\u001b[0m     \u001b[0mbackTrack\u001b[0m\u001b[1;33m[\u001b[0m\u001b[0ms\u001b[0m\u001b[1;33m]\u001b[0m\u001b[1;33m[\u001b[0m\u001b[1;36m1\u001b[0m\u001b[1;33m]\u001b[0m \u001b[1;33m=\u001b[0m \u001b[1;36m0\u001b[0m  \u001b[1;31m# or should it be 0 or s?\u001b[0m\u001b[1;33m\u001b[0m\u001b[1;33m\u001b[0m\u001b[0m\n",
      "\u001b[1;32m~\\Anaconda3\\envs\\tf\\lib\\site-packages\\numpy\\core\\memmap.py\u001b[0m in \u001b[0;36m__getitem__\u001b[1;34m(self, index)\u001b[0m\n\u001b[0;32m    329\u001b[0m \u001b[1;33m\u001b[0m\u001b[0m\n\u001b[0;32m    330\u001b[0m     \u001b[1;32mdef\u001b[0m \u001b[0m__getitem__\u001b[0m\u001b[1;33m(\u001b[0m\u001b[0mself\u001b[0m\u001b[1;33m,\u001b[0m \u001b[0mindex\u001b[0m\u001b[1;33m)\u001b[0m\u001b[1;33m:\u001b[0m\u001b[1;33m\u001b[0m\u001b[1;33m\u001b[0m\u001b[0m\n\u001b[1;32m--> 331\u001b[1;33m         \u001b[0mres\u001b[0m \u001b[1;33m=\u001b[0m \u001b[0msuper\u001b[0m\u001b[1;33m(\u001b[0m\u001b[0mmemmap\u001b[0m\u001b[1;33m,\u001b[0m \u001b[0mself\u001b[0m\u001b[1;33m)\u001b[0m\u001b[1;33m.\u001b[0m\u001b[0m__getitem__\u001b[0m\u001b[1;33m(\u001b[0m\u001b[0mindex\u001b[0m\u001b[1;33m)\u001b[0m\u001b[1;33m\u001b[0m\u001b[1;33m\u001b[0m\u001b[0m\n\u001b[0m\u001b[0;32m    332\u001b[0m         \u001b[1;32mif\u001b[0m \u001b[0mtype\u001b[0m\u001b[1;33m(\u001b[0m\u001b[0mres\u001b[0m\u001b[1;33m)\u001b[0m \u001b[1;32mis\u001b[0m \u001b[0mmemmap\u001b[0m \u001b[1;32mand\u001b[0m \u001b[0mres\u001b[0m\u001b[1;33m.\u001b[0m\u001b[0m_mmap\u001b[0m \u001b[1;32mis\u001b[0m \u001b[1;32mNone\u001b[0m\u001b[1;33m:\u001b[0m\u001b[1;33m\u001b[0m\u001b[1;33m\u001b[0m\u001b[0m\n\u001b[0;32m    333\u001b[0m             \u001b[1;32mreturn\u001b[0m \u001b[0mres\u001b[0m\u001b[1;33m.\u001b[0m\u001b[0mview\u001b[0m\u001b[1;33m(\u001b[0m\u001b[0mtype\u001b[0m\u001b[1;33m=\u001b[0m\u001b[0mndarray\u001b[0m\u001b[1;33m)\u001b[0m\u001b[1;33m\u001b[0m\u001b[1;33m\u001b[0m\u001b[0m\n",
      "\u001b[1;31mIndexError\u001b[0m: only integers, slices (`:`), ellipsis (`...`), numpy.newaxis (`None`) and integer or boolean arrays are valid indices"
     ]
    }
   ],
   "source": [
    "\r\n",
    "# https://github.com/dhwaniraval/Viterbi_Algorithm/blob/master/Viterbi.py\r\n",
    "# Input string as observation sequence\r\n",
    "observation_sequence = sentence\r\n",
    "total_states = len(y)\r\n",
    "\r\n",
    "# Break the sequence in observation O\r\n",
    "O = ['']\r\n",
    "for i in range(0, len(observation_sequence)):\r\n",
    "    O.append(observation_sequence[i])\r\n",
    "\r\n",
    "    # n = 3\r\n",
    "time = len(observation_sequence) + 1\r\n",
    "\r\n",
    "viterbi = [[0] * time for i in range(total_states)]\r\n",
    "backTrack = [[0] * time for i in range(total_states)]\r\n",
    "\r\n",
    "# Initialization, fill the values for observation 1 from start state s to total_states\r\n",
    "for s in range(1, total_states):\r\n",
    "    print(transition_matrix02[0][s])\r\n",
    "    print(observation_likelihood02[s][O[1]])\r\n",
    "    viterbi[s][1] = transition_matrix[0][s] * observation_likelihood[s][O[1]]\r\n",
    "    backTrack[s][1] = 0  # or should it be 0 or s?\r\n",
    "\r\n",
    "    # s is state, t is observation time, i iterates through all states from 1 to total_states\r\n",
    "for t in range(2, len(O)):\r\n",
    "    for s in range(1, total_states):\r\n",
    "        max = 0\r\n",
    "        argmax = 0\r\n",
    "\r\n",
    "        for i in range(1, total_states):\r\n",
    "            if max < viterbi[i][t - 1] * transition_matrix[i][s] * observation_likelihood[s][O[t]]:\r\n",
    "                max = viterbi[i][t - 1] * transition_matrix[i][s] * observation_likelihood[s][O[t]]\r\n",
    "                argmax = i\r\n",
    "\r\n",
    "        viterbi[s][t] = max\r\n",
    "        backTrack[s][t] = argmax\r\n",
    "\r\n",
    "best_path_pointer = []\r\n",
    "for i in range(0, len(O)):\r\n",
    "    best_path_pointer.append(0)\r\n",
    "\r\n",
    "max = 0\r\n",
    "agrmax = 0\r\n",
    "for i in range(1, total_states):\r\n",
    "    if max < viterbi[i][len(O) - 1]:\r\n",
    "        max = viterbi[i][len(O) - 1]\r\n",
    "        argmax = i\r\n",
    "\r\n",
    "best_path_probability = max;\r\n",
    "best_path_pointer[len(O) - 1] = argmax\r\n",
    "\r\n",
    "for i in range(len(O) - 1, 1, -1):\r\n",
    "    best_path_pointer[i - 1] = backTrack[best_path_pointer[i]][i]\r\n",
    "\r\n",
    "most_likely_sequence = \"\"\r\n",
    "for i in range(1, len(best_path_pointer)):\r\n",
    "    most_likely_sequence = most_likely_sequence + \" \" + state[best_path_pointer[i]]\r\n",
    "\r\n",
    "print(\"\\nGiven Observation Sequence = \" + observation_sequence)\r\n",
    "print(\"Most Likely Weather Sequence = \" + most_likely_sequence)\r\n",
    "print(\"Most Likely Probability : \" + str(best_path_probability))"
   ]
  },
  {
   "cell_type": "code",
   "execution_count": null,
   "metadata": {},
   "outputs": [],
   "source": [
    "for i in range(1,11):\r\n",
    "  obs = gen_one_obs()\r\n",
    "  print(i,'. ', obs)\r\n"
   ]
  }
 ],
 "metadata": {
  "interpreter": {
   "hash": "75c4db28bb58e6de10e05be21b6046b5ba21d9aba4af4007d97c2f3325bc0896"
  },
  "kernelspec": {
   "display_name": "Python 3.8.8 64-bit ('tf': conda)",
   "name": "python3"
  },
  "language_info": {
   "codemirror_mode": {
    "name": "ipython",
    "version": 3
   },
   "file_extension": ".py",
   "mimetype": "text/x-python",
   "name": "python",
   "nbconvert_exporter": "python",
   "pygments_lexer": "ipython3",
   "version": "3.8.8"
  },
  "orig_nbformat": 2
 },
 "nbformat": 4,
 "nbformat_minor": 2
}